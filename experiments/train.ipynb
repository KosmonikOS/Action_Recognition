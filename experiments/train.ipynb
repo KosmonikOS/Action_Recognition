{
  "cells": [
    {
      "cell_type": "markdown",
      "id": "b62ff014",
      "metadata": {},
      "source": [
        "## InfoGCN++ training pipeline\n",
        "This notebook shows how to prepare data and train the SODE model on COCO-format skeleton `.npy` clips."
      ]
    },
    {
      "cell_type": "code",
      "execution_count": 1,
      "id": "4de357a6",
      "metadata": {},
      "outputs": [],
      "source": [
        "from pathlib import Path\n",
        "\n",
        "import pandas as pd\n",
        "import torch\n",
        "from sklearn.model_selection import train_test_split\n",
        "from torch.utils.data import DataLoader\n",
        "\n",
        "from act_rec.datasets import SkeletonNpyDataset\n",
        "from act_rec.model.losses import LabelSmoothingCrossEntropy\n",
        "from act_rec.model.sode import SODE\n",
        "from act_rec.training import TrainConfig, evaluate, train_one_epoch"
      ]
    },
    {
      "cell_type": "code",
      "execution_count": 8,
      "id": "75314d99",
      "metadata": {},
      "outputs": [],
      "source": [
        "# Paths\n",
        "data_root = Path(\"../data/\")  # folder containing the .npy clips\n",
        "csv_path = data_root / \"labels.csv\"\n",
        "\n",
        "df = pd.read_csv(csv_path)\n",
        "df = df.dropna()\n",
        "label_to_idx = {label: idx for idx, label in enumerate(sorted(df[\"label\"].unique()))}\n",
        "df[\"label_idx\"] = df[\"label\"].map(label_to_idx)\n",
        "df[\"skeleton_path\"] = df[\"skeleton_path\"].apply(lambda p: str((data_root / p).resolve()))"
      ]
    },
    {
      "cell_type": "code",
      "execution_count": 9,
      "id": "c1a90cc9",
      "metadata": {},
      "outputs": [],
      "source": [
        "train_df, val_df = train_test_split(\n",
        "    df,\n",
        "    test_size=0.2,\n",
        "    stratify=df[\"label_idx\"],\n",
        "    random_state=42,\n",
        ")"
      ]
    },
    {
      "cell_type": "code",
      "execution_count": 12,
      "id": "65b76312",
      "metadata": {},
      "outputs": [],
      "source": [
        "window_size = 64\n",
        "train_dataset = SkeletonNpyDataset(\n",
        "    train_df[\"skeleton_path\"].tolist(),\n",
        "    labels=train_df[\"label_idx\"].tolist(),\n",
        "    window_size=window_size,\n",
        "    p_interval=(0.5, 1.0),\n",
        "    random_rotation=True,\n",
        ")\n",
        "val_dataset = SkeletonNpyDataset(\n",
        "    val_df[\"skeleton_path\"].tolist(),\n",
        "    labels=val_df[\"label_idx\"].tolist(),\n",
        "    window_size=window_size,\n",
        "    p_interval=(1.0,),\n",
        "    random_rotation=False,\n",
        ")\n",
        "\n",
        "train_loader = DataLoader(train_dataset, batch_size=8, shuffle=True, num_workers=4, pin_memory=True)\n",
        "val_loader = DataLoader(val_dataset, batch_size=8, shuffle=False, num_workers=4, pin_memory=True)"
      ]
    },
    {
      "cell_type": "code",
      "execution_count": 13,
      "id": "114d66cd",
      "metadata": {},
      "outputs": [],
      "source": [
        "device = torch.device(\"mps\" if torch.backends.mps.is_available() else \"cpu\")\n",
        "model = SODE(\n",
        "    num_class=len(label_to_idx),\n",
        "    num_point=17,\n",
        "    num_person=1,\n",
        "    graph=\"act_rec.graph.coco.Graph\",\n",
        "    in_channels=3,\n",
        "    T=window_size,\n",
        "    n_step=3,\n",
        "    num_cls=4,\n",
        ").to(device)\n",
        "\n",
        "optimizer = torch.optim.AdamW(model.parameters(), lr=1e-4, weight_decay=1e-4)\n",
        "config = TrainConfig(\n",
        "    device=device,\n",
        "    cls_loss=LabelSmoothingCrossEntropy(smoothing=0.1),\n",
        "    lambda_cls=1.0,\n",
        "    lambda_recon=0.1,\n",
        ")\n"
      ]
    },
    {
      "cell_type": "code",
      "execution_count": 14,
      "id": "93b52d7a",
      "metadata": {},
      "outputs": [
        {
          "name": "stdout",
          "output_type": "stream",
          "text": [
            "Epoch 1/10 | train_cls=2.6363 | val_cls=2.6010 | val_top1=0.100 | val_top5=0.502\n",
            "Epoch 2/10 | train_cls=2.5601 | val_cls=2.5404 | val_top1=0.096 | val_top5=0.586\n",
            "Epoch 3/10 | train_cls=2.5107 | val_cls=2.5282 | val_top1=0.203 | val_top5=0.693\n",
            "Epoch 4/10 | train_cls=2.4832 | val_cls=2.4970 | val_top1=0.207 | val_top5=0.614\n",
            "Epoch 5/10 | train_cls=2.4648 | val_cls=2.4931 | val_top1=0.251 | val_top5=0.685\n",
            "Epoch 6/10 | train_cls=2.4489 | val_cls=2.4862 | val_top1=0.215 | val_top5=0.661\n",
            "Epoch 7/10 | train_cls=2.4323 | val_cls=2.4594 | val_top1=0.259 | val_top5=0.677\n",
            "Epoch 8/10 | train_cls=2.4067 | val_cls=2.4281 | val_top1=0.215 | val_top5=0.677\n",
            "Epoch 9/10 | train_cls=2.3879 | val_cls=2.4279 | val_top1=0.331 | val_top5=0.729\n",
            "Epoch 10/10 | train_cls=2.3606 | val_cls=2.3888 | val_top1=0.275 | val_top5=0.725\n"
          ]
        }
      ],
      "source": [
        "num_epochs = 10\n",
        "best_val = float(\"inf\")\n",
        "history = []\n",
        "\n",
        "for epoch in range(num_epochs):\n",
        "    train_metrics = train_one_epoch(model, train_loader, optimizer, config)\n",
        "    val_metrics = evaluate(model, val_loader, config)\n",
        "    history.append({**train_metrics, **val_metrics})\n",
        "\n",
        "    print(\n",
        "        \"Epoch {}/{} | train_cls={:.4f} | val_cls={:.4f} | val_top1={:.3f} | val_top5={:.3f}\".format(\n",
        "            epoch + 1,\n",
        "            num_epochs,\n",
        "            train_metrics[\"train_cls_loss\"],\n",
        "            val_metrics[\"val_cls_loss\"],\n",
        "            val_metrics[\"val_top1\"],\n",
        "            val_metrics[\"val_top5\"],\n",
        "        )\n",
        "    )\n",
        "\n",
        "    if val_metrics[\"val_cls_loss\"] < best_val:\n",
        "        best_val = val_metrics[\"val_cls_loss\"]\n",
        "        torch.save({\"model\": model.state_dict(), \"label_to_idx\": label_to_idx}, \"sode_best.pt\")\n"
      ]
    }
  ],
  "metadata": {
    "kernelspec": {
      "display_name": "act-rec",
      "language": "python",
      "name": "python3"
    },
    "language_info": {
      "codemirror_mode": {
        "name": "ipython",
        "version": 3
      },
      "file_extension": ".py",
      "mimetype": "text/x-python",
      "name": "python",
      "nbconvert_exporter": "python",
      "pygments_lexer": "ipython3",
      "version": "3.11.13"
    }
  },
  "nbformat": 4,
  "nbformat_minor": 5
}
