{
 "cells": [
  {
   "cell_type": "code",
   "execution_count": null,
   "id": "e370c163",
   "metadata": {},
   "outputs": [],
   "source": [
    "import hashlib\n",
    "from pathlib import Path\n",
    "\n",
    "import numpy as np\n",
    "import pandas as pd\n",
    "import tqdm\n",
    "\n",
    "from act_rec.labeling import YoloPoseVideoLabeler\n",
    "from act_rec.params import YoloPoseVideoInferenceParams\n"
   ]
  },
  {
   "cell_type": "code",
   "execution_count": null,
   "id": "e5c6206c",
   "metadata": {},
   "outputs": [],
   "source": [
    "BASE_DIR = Path.cwd().parent"
   ]
  },
  {
   "cell_type": "code",
   "execution_count": null,
   "id": "9c885554",
   "metadata": {},
   "outputs": [],
   "source": [
    "params = YoloPoseVideoInferenceParams()\n",
    "labeler = YoloPoseVideoLabeler(\n",
    "    model_path=\"../../models/yolo11x-pose.pt\",\n",
    "    params=params,\n",
    ")"
   ]
  },
  {
   "cell_type": "code",
   "execution_count": null,
   "id": "39c479e7",
   "metadata": {},
   "outputs": [],
   "source": [
    "labels = pd.read_csv(BASE_DIR / \"labels.csv\")"
   ]
  },
  {
   "cell_type": "code",
   "execution_count": null,
   "id": "e5ff0bea",
   "metadata": {},
   "outputs": [],
   "source": [
    "labels.dropna()[\"label\"]"
   ]
  },
  {
   "cell_type": "code",
   "execution_count": null,
   "id": "7ed7cd60",
   "metadata": {},
   "outputs": [],
   "source": [
    "n_frames = []\n",
    "skeleton_paths = []\n",
    "\n",
    "for path in tqdm.tqdm(labels[\"video_path\"]):\n",
    "    absolute_video_path = BASE_DIR / path\n",
    "    is_single_person, keypoints = labeler.label_video(\n",
    "        absolute_video_path,\n",
    "        multi_person_tollerance_n_frames=15,\n",
    "    )\n",
    "    if not is_single_person:\n",
    "        n_frames.append(None)\n",
    "        skeleton_paths.append(None)\n",
    "        continue\n",
    "    skeleton_file_path = Path(\"skeletons\") / f\"{hashlib.md5(path.encode()).hexdigest()}.npy\"\n",
    "    absolute_skeleton_file_path = BASE_DIR / skeleton_file_path\n",
    "    absolute_skeleton_file_path.parent.mkdir(parents=True, exist_ok=True)\n",
    "    np.save(absolute_skeleton_file_path, keypoints)\n",
    "    n_frames.append(keypoints.shape[0])\n",
    "    skeleton_paths.append(skeleton_file_path)"
   ]
  },
  {
   "cell_type": "code",
   "execution_count": null,
   "id": "3c041cca",
   "metadata": {},
   "outputs": [],
   "source": [
    "labels[\"n_frames\"] = n_frames\n",
    "labels[\"skeleton_path\"] = skeleton_paths"
   ]
  },
  {
   "cell_type": "code",
   "execution_count": null,
   "id": "2d5ec56b",
   "metadata": {},
   "outputs": [],
   "source": [
    "labels.to_csv(BASE_DIR / \"labels.csv\", index=False)"
   ]
  }
 ],
 "metadata": {
  "kernelspec": {
   "display_name": "act-rec",
   "language": "python",
   "name": "python3"
  },
  "language_info": {
   "codemirror_mode": {
    "name": "ipython",
    "version": 3
   },
   "file_extension": ".py",
   "mimetype": "text/x-python",
   "name": "python",
   "nbconvert_exporter": "python",
   "pygments_lexer": "ipython3",
   "version": "3.11.13"
  }
 },
 "nbformat": 4,
 "nbformat_minor": 5
}
